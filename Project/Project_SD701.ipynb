{
 "cells": [
  {
   "cell_type": "code",
   "execution_count": 3,
   "metadata": {
    "id": "OHcGShWz-QRv"
   },
   "outputs": [],
   "source": [
    "import os\n",
    "import pandas as pd\n",
    "import numpy as np\n",
    "import seaborn as sns\n",
    "import matplotlib.pyplot as plt\n",
    "import dexplot as dxp"
   ]
  },
  {
   "cell_type": "code",
   "execution_count": 8,
   "metadata": {
    "id": "wysaF5CuHHlV"
   },
   "outputs": [],
   "source": [
    "transactions = pd.read_csv(\"transactions_v2.csv\")\n",
    "members = pd.read_csv('members_v3.csv')\n",
    "train = pd.read_csv(\"train_v2.csv\")\n",
    "test = pd.read_csv(\"sample_submission_v2.csv\")\n",
    "user = pd.read_csv(\"user_logs_v2.csv\")"
   ]
  },
  {
   "cell_type": "markdown",
   "metadata": {
    "id": "L5W1ZoVL1d4C"
   },
   "source": [
    "# Analysis on Training data set "
   ]
  },
  {
   "cell_type": "code",
   "execution_count": 13,
   "metadata": {
    "colab": {
     "base_uri": "https://localhost:8080/",
     "height": 204
    },
    "id": "WbIoMYBM1YQu",
    "outputId": "0c7c63ad-4a9f-4f9b-8127-08e70ab373aa"
   },
   "outputs": [
    {
     "data": {
      "text/html": [
       "<div>\n",
       "<style scoped>\n",
       "    .dataframe tbody tr th:only-of-type {\n",
       "        vertical-align: middle;\n",
       "    }\n",
       "\n",
       "    .dataframe tbody tr th {\n",
       "        vertical-align: top;\n",
       "    }\n",
       "\n",
       "    .dataframe thead th {\n",
       "        text-align: right;\n",
       "    }\n",
       "</style>\n",
       "<table border=\"1\" class=\"dataframe\">\n",
       "  <thead>\n",
       "    <tr style=\"text-align: right;\">\n",
       "      <th></th>\n",
       "      <th>msno</th>\n",
       "      <th>is_churn</th>\n",
       "    </tr>\n",
       "  </thead>\n",
       "  <tbody>\n",
       "    <tr>\n",
       "      <th>0</th>\n",
       "      <td>ugx0CjOMzazClkFzU2xasmDZaoIqOUAZPsH1q0teWCg=</td>\n",
       "      <td>1</td>\n",
       "    </tr>\n",
       "    <tr>\n",
       "      <th>1</th>\n",
       "      <td>f/NmvEzHfhINFEYZTR05prUdr+E+3+oewvweYz9cCQE=</td>\n",
       "      <td>1</td>\n",
       "    </tr>\n",
       "    <tr>\n",
       "      <th>2</th>\n",
       "      <td>zLo9f73nGGT1p21ltZC3ChiRnAVvgibMyazbCxvWPcg=</td>\n",
       "      <td>1</td>\n",
       "    </tr>\n",
       "    <tr>\n",
       "      <th>3</th>\n",
       "      <td>8iF/+8HY8lJKFrTc7iR9ZYGCG2Ecrogbc2Vy5YhsfhQ=</td>\n",
       "      <td>1</td>\n",
       "    </tr>\n",
       "    <tr>\n",
       "      <th>4</th>\n",
       "      <td>K6fja4+jmoZ5xG6BypqX80Uw/XKpMgrEMdG2edFOxnA=</td>\n",
       "      <td>1</td>\n",
       "    </tr>\n",
       "  </tbody>\n",
       "</table>\n",
       "</div>"
      ],
      "text/plain": [
       "                                           msno  is_churn\n",
       "0  ugx0CjOMzazClkFzU2xasmDZaoIqOUAZPsH1q0teWCg=         1\n",
       "1  f/NmvEzHfhINFEYZTR05prUdr+E+3+oewvweYz9cCQE=         1\n",
       "2  zLo9f73nGGT1p21ltZC3ChiRnAVvgibMyazbCxvWPcg=         1\n",
       "3  8iF/+8HY8lJKFrTc7iR9ZYGCG2Ecrogbc2Vy5YhsfhQ=         1\n",
       "4  K6fja4+jmoZ5xG6BypqX80Uw/XKpMgrEMdG2edFOxnA=         1"
      ]
     },
     "execution_count": 13,
     "metadata": {},
     "output_type": "execute_result"
    }
   ],
   "source": [
    "train.head()"
   ]
  },
  {
   "cell_type": "code",
   "execution_count": 14,
   "metadata": {
    "colab": {
     "base_uri": "https://localhost:8080/"
    },
    "id": "RSjaK61e1YUz",
    "outputId": "bde9e762-4a1c-456d-de12-430572a15454"
   },
   "outputs": [
    {
     "data": {
      "text/plain": [
       "(970960, 2)"
      ]
     },
     "execution_count": 14,
     "metadata": {},
     "output_type": "execute_result"
    }
   ],
   "source": [
    "train.shape"
   ]
  },
  {
   "cell_type": "code",
   "execution_count": 15,
   "metadata": {
    "colab": {
     "base_uri": "https://localhost:8080/"
    },
    "id": "uae8b8JW1YYb",
    "outputId": "239ff98f-cf65-46dd-c8af-ae0f22040206"
   },
   "outputs": [
    {
     "data": {
      "text/plain": [
       "False"
      ]
     },
     "execution_count": 15,
     "metadata": {},
     "output_type": "execute_result"
    }
   ],
   "source": [
    "# checking for any null values in the DataFrame\n",
    "train.isnull().values.any()"
   ]
  },
  {
   "cell_type": "code",
   "execution_count": 16,
   "metadata": {
    "colab": {
     "base_uri": "https://localhost:8080/"
    },
    "id": "jnI5TaIP1YcC",
    "outputId": "20a334cf-b9e2-4ad7-a571-ee2a1d763eda"
   },
   "outputs": [
    {
     "data": {
      "text/plain": [
       "False"
      ]
     },
     "execution_count": 16,
     "metadata": {},
     "output_type": "execute_result"
    }
   ],
   "source": [
    "# checking for duplicate value in the dataframe\n",
    "train.duplicated().any()"
   ]
  },
  {
   "cell_type": "code",
   "execution_count": 27,
   "metadata": {},
   "outputs": [
    {
     "data": {
      "text/plain": [
       "Text(0.5, 1.0, 'Class label distribution')"
      ]
     },
     "execution_count": 27,
     "metadata": {},
     "output_type": "execute_result"
    },
    {
     "data": {
      "image/png": "[encoded data removed]",
      "text/plain": [
       "<Figure size 864x504 with 1 Axes>"
      ]
     },
     "metadata": {
      "needs_background": "light"
     },
     "output_type": "display_data"
    }
   ],
   "source": [
    "plt.figure(figsize=(12,7))\n",
    "ax = sns.countplot(data=train, x='is_churn')\n",
    "plt.xticks(size=12)\n",
    "plt.xlabel('Class label', size=14)\n",
    "plt.yticks(size=12)\n",
    "plt.ylabel('Count', size=12)\n",
    "plt.title('Class label distribution', size=16)"
   ]
  },
  {
   "cell_type": "markdown",
   "metadata": {
    "id": "8-faIRMX2W3C"
   },
   "source": [
    "The training dataset is unbalanced, there are a lot of non-churned useres compared to those who churned. \n",
    "\n",
    "\n"
   ]
  },
  {
   "cell_type": "markdown",
   "metadata": {
    "id": "xlB5M9jQ23n1"
   },
   "source": [
    "# Analysis on Members data"
   ]
  },
  {
   "cell_type": "code",
   "execution_count": 32,
   "metadata": {
    "colab": {
     "base_uri": "https://localhost:8080/",
     "height": 224
    },
    "id": "1WDOkx4j1THX",
    "outputId": "e3ad8fe0-5de8-4538-b398-3de4625e731c"
   },
   "outputs": [
    {
     "data": {
      "text/html": [
       "<div>\n",
       "<style scoped>\n",
       "    .dataframe tbody tr th:only-of-type {\n",
       "        vertical-align: middle;\n",
       "    }\n",
       "\n",
       "    .dataframe tbody tr th {\n",
       "        vertical-align: top;\n",
       "    }\n",
       "\n",
       "    .dataframe thead th {\n",
       "        text-align: right;\n",
       "    }\n",
       "</style>\n",
       "<table border=\"1\" class=\"dataframe\">\n",
       "  <thead>\n",
       "    <tr style=\"text-align: right;\">\n",
       "      <th></th>\n",
       "      <th>msno</th>\n",
       "      <th>city</th>\n",
       "      <th>bd</th>\n",
       "      <th>gender</th>\n",
       "      <th>registered_via</th>\n",
       "      <th>registration_init_time</th>\n",
       "    </tr>\n",
       "  </thead>\n",
       "  <tbody>\n",
       "    <tr>\n",
       "      <th>0</th>\n",
       "      <td>Rb9UwLQTrxzBVwCB6+bCcSQWZ9JiNLC9dXtM1oEsZA8=</td>\n",
       "      <td>1</td>\n",
       "      <td>0</td>\n",
       "      <td>NaN</td>\n",
       "      <td>11</td>\n",
       "      <td>20110911</td>\n",
       "    </tr>\n",
       "    <tr>\n",
       "      <th>1</th>\n",
       "      <td>+tJonkh+O1CA796Fm5X60UMOtB6POHAwPjbTRVl/EuU=</td>\n",
       "      <td>1</td>\n",
       "      <td>0</td>\n",
       "      <td>NaN</td>\n",
       "      <td>7</td>\n",
       "      <td>20110914</td>\n",
       "    </tr>\n",
       "    <tr>\n",
       "      <th>2</th>\n",
       "      <td>cV358ssn7a0f7jZOwGNWS07wCKVqxyiImJUX6xcIwKw=</td>\n",
       "      <td>1</td>\n",
       "      <td>0</td>\n",
       "      <td>NaN</td>\n",
       "      <td>11</td>\n",
       "      <td>20110915</td>\n",
       "    </tr>\n",
       "    <tr>\n",
       "      <th>3</th>\n",
       "      <td>9bzDeJP6sQodK73K5CBlJ6fgIQzPeLnRl0p5B77XP+g=</td>\n",
       "      <td>1</td>\n",
       "      <td>0</td>\n",
       "      <td>NaN</td>\n",
       "      <td>11</td>\n",
       "      <td>20110915</td>\n",
       "    </tr>\n",
       "    <tr>\n",
       "      <th>4</th>\n",
       "      <td>WFLY3s7z4EZsieHCt63XrsdtfTEmJ+2PnnKLH5GY4Tk=</td>\n",
       "      <td>6</td>\n",
       "      <td>32</td>\n",
       "      <td>female</td>\n",
       "      <td>9</td>\n",
       "      <td>20110915</td>\n",
       "    </tr>\n",
       "  </tbody>\n",
       "</table>\n",
       "</div>"
      ],
      "text/plain": [
       "                                           msno  city  bd  gender  \\\n",
       "0  Rb9UwLQTrxzBVwCB6+bCcSQWZ9JiNLC9dXtM1oEsZA8=     1   0     NaN   \n",
       "1  +tJonkh+O1CA796Fm5X60UMOtB6POHAwPjbTRVl/EuU=     1   0     NaN   \n",
       "2  cV358ssn7a0f7jZOwGNWS07wCKVqxyiImJUX6xcIwKw=     1   0     NaN   \n",
       "3  9bzDeJP6sQodK73K5CBlJ6fgIQzPeLnRl0p5B77XP+g=     1   0     NaN   \n",
       "4  WFLY3s7z4EZsieHCt63XrsdtfTEmJ+2PnnKLH5GY4Tk=     6  32  female   \n",
       "\n",
       "   registered_via  registration_init_time  \n",
       "0              11                20110911  \n",
       "1               7                20110914  \n",
       "2              11                20110915  \n",
       "3              11                20110915  \n",
       "4               9                20110915  "
      ]
     },
     "execution_count": 32,
     "metadata": {},
     "output_type": "execute_result"
    }
   ],
   "source": [
    "members.head()"
   ]
  },
  {
   "cell_type": "code",
   "execution_count": 33,
   "metadata": {
    "colab": {
     "base_uri": "https://localhost:8080/"
    },
    "id": "8nvhRmvk2x8K",
    "outputId": "5acb4f57-f4bb-4b33-8aed-29d5f058428e"
   },
   "outputs": [
    {
     "data": {
      "text/plain": [
       "(6769473, 6)"
      ]
     },
     "execution_count": 33,
     "metadata": {},
     "output_type": "execute_result"
    }
   ],
   "source": [
    "members.shape"
   ]
  },
  {
   "cell_type": "code",
   "execution_count": 34,
   "metadata": {
    "colab": {
     "base_uri": "https://localhost:8080/",
     "height": 224
    },
    "id": "d_fVsuIv2x-u",
    "outputId": "72719bd5-4c15-4791-bcba-d481b9922ee9"
   },
   "outputs": [
    {
     "data": {
      "text/html": [
       "<div>\n",
       "<style scoped>\n",
       "    .dataframe tbody tr th:only-of-type {\n",
       "        vertical-align: middle;\n",
       "    }\n",
       "\n",
       "    .dataframe tbody tr th {\n",
       "        vertical-align: top;\n",
       "    }\n",
       "\n",
       "    .dataframe thead th {\n",
       "        text-align: right;\n",
       "    }\n",
       "</style>\n",
       "<table border=\"1\" class=\"dataframe\">\n",
       "  <thead>\n",
       "    <tr style=\"text-align: right;\">\n",
       "      <th></th>\n",
       "      <th>msno</th>\n",
       "      <th>is_churn</th>\n",
       "      <th>city</th>\n",
       "      <th>bd</th>\n",
       "      <th>gender</th>\n",
       "      <th>registered_via</th>\n",
       "      <th>registration_init_time</th>\n",
       "    </tr>\n",
       "  </thead>\n",
       "  <tbody>\n",
       "    <tr>\n",
       "      <th>0</th>\n",
       "      <td>ugx0CjOMzazClkFzU2xasmDZaoIqOUAZPsH1q0teWCg=</td>\n",
       "      <td>1</td>\n",
       "      <td>5.0</td>\n",
       "      <td>28.0</td>\n",
       "      <td>male</td>\n",
       "      <td>3.0</td>\n",
       "      <td>20131223.0</td>\n",
       "    </tr>\n",
       "    <tr>\n",
       "      <th>1</th>\n",
       "      <td>f/NmvEzHfhINFEYZTR05prUdr+E+3+oewvweYz9cCQE=</td>\n",
       "      <td>1</td>\n",
       "      <td>13.0</td>\n",
       "      <td>20.0</td>\n",
       "      <td>male</td>\n",
       "      <td>3.0</td>\n",
       "      <td>20131223.0</td>\n",
       "    </tr>\n",
       "    <tr>\n",
       "      <th>2</th>\n",
       "      <td>zLo9f73nGGT1p21ltZC3ChiRnAVvgibMyazbCxvWPcg=</td>\n",
       "      <td>1</td>\n",
       "      <td>13.0</td>\n",
       "      <td>18.0</td>\n",
       "      <td>male</td>\n",
       "      <td>3.0</td>\n",
       "      <td>20131227.0</td>\n",
       "    </tr>\n",
       "    <tr>\n",
       "      <th>3</th>\n",
       "      <td>8iF/+8HY8lJKFrTc7iR9ZYGCG2Ecrogbc2Vy5YhsfhQ=</td>\n",
       "      <td>1</td>\n",
       "      <td>1.0</td>\n",
       "      <td>0.0</td>\n",
       "      <td>NaN</td>\n",
       "      <td>7.0</td>\n",
       "      <td>20140109.0</td>\n",
       "    </tr>\n",
       "    <tr>\n",
       "      <th>4</th>\n",
       "      <td>K6fja4+jmoZ5xG6BypqX80Uw/XKpMgrEMdG2edFOxnA=</td>\n",
       "      <td>1</td>\n",
       "      <td>13.0</td>\n",
       "      <td>35.0</td>\n",
       "      <td>female</td>\n",
       "      <td>7.0</td>\n",
       "      <td>20140125.0</td>\n",
       "    </tr>\n",
       "  </tbody>\n",
       "</table>\n",
       "</div>"
      ],
      "text/plain": [
       "                                           msno  is_churn  city    bd  gender  \\\n",
       "0  ugx0CjOMzazClkFzU2xasmDZaoIqOUAZPsH1q0teWCg=         1   5.0  28.0    male   \n",
       "1  f/NmvEzHfhINFEYZTR05prUdr+E+3+oewvweYz9cCQE=         1  13.0  20.0    male   \n",
       "2  zLo9f73nGGT1p21ltZC3ChiRnAVvgibMyazbCxvWPcg=         1  13.0  18.0    male   \n",
       "3  8iF/+8HY8lJKFrTc7iR9ZYGCG2Ecrogbc2Vy5YhsfhQ=         1   1.0   0.0     NaN   \n",
       "4  K6fja4+jmoZ5xG6BypqX80Uw/XKpMgrEMdG2edFOxnA=         1  13.0  35.0  female   \n",
       "\n",
       "   registered_via  registration_init_time  \n",
       "0             3.0              20131223.0  \n",
       "1             3.0              20131223.0  \n",
       "2             3.0              20131227.0  \n",
       "3             7.0              20140109.0  \n",
       "4             7.0              20140125.0  "
      ]
     },
     "execution_count": 34,
     "metadata": {},
     "output_type": "execute_result"
    }
   ],
   "source": [
    "train_members = pd.merge(train, members, on = \"msno\" , how = \"left\")\n",
    "train_members.head()"
   ]
  },
  {
   "cell_type": "code",
   "execution_count": 35,
   "metadata": {
    "colab": {
     "base_uri": "https://localhost:8080/"
    },
    "id": "btXKbeDU2yBa",
    "outputId": "0f664ae7-2582-45a0-d671-02098e1928da"
   },
   "outputs": [
    {
     "data": {
      "text/plain": [
       "(970960, 7)"
      ]
     },
     "execution_count": 35,
     "metadata": {},
     "output_type": "execute_result"
    }
   ],
   "source": [
    "train_members.shape"
   ]
  },
  {
   "cell_type": "code",
   "execution_count": 36,
   "metadata": {
    "colab": {
     "base_uri": "https://localhost:8080/"
    },
    "id": "Ag976o642yEN",
    "outputId": "8a8c798e-7aaa-4d89-93b1-a02457c05114"
   },
   "outputs": [
    {
     "name": "stdout",
     "output_type": "stream",
     "text": [
      "<class 'pandas.core.frame.DataFrame'>\n",
      "Int64Index: 970960 entries, 0 to 970959\n",
      "Data columns (total 7 columns):\n",
      " #   Column                  Non-Null Count   Dtype  \n",
      "---  ------                  --------------   -----  \n",
      " 0   msno                    970960 non-null  object \n",
      " 1   is_churn                970960 non-null  int64  \n",
      " 2   city                    860967 non-null  float64\n",
      " 3   bd                      860967 non-null  float64\n",
      " 4   gender                  388905 non-null  object \n",
      " 5   registered_via          860967 non-null  float64\n",
      " 6   registration_init_time  860967 non-null  float64\n",
      "dtypes: float64(4), int64(1), object(2)\n",
      "memory usage: 59.3+ MB\n"
     ]
    }
   ],
   "source": [
    "train_members.info()"
   ]
  },
  {
   "cell_type": "code",
   "execution_count": 37,
   "metadata": {
    "colab": {
     "base_uri": "https://localhost:8080/"
    },
    "id": "G67FYvOPigL-",
    "outputId": "e2bc0f3a-897c-42e3-892d-f385bd519a1c"
   },
   "outputs": [
    {
     "data": {
      "text/plain": [
       "0"
      ]
     },
     "execution_count": 37,
     "metadata": {},
     "output_type": "execute_result"
    }
   ],
   "source": [
    "train_members.duplicated(\"msno\").sum()"
   ]
  },
  {
   "cell_type": "code",
   "execution_count": 20,
   "metadata": {
    "colab": {
     "base_uri": "https://localhost:8080/"
    },
    "id": "pOypqrsZ1TKz",
    "outputId": "acb3ad1e-7f35-4057-c466-a42a5bb7b987"
   },
   "outputs": [
    {
     "data": {
      "text/plain": [
       "msno                           0\n",
       "is_churn                       0\n",
       "city                      109993\n",
       "bd                        109993\n",
       "gender                    582055\n",
       "registered_via            109993\n",
       "registration_init_time    109993\n",
       "dtype: int64"
      ]
     },
     "execution_count": 20,
     "metadata": {},
     "output_type": "execute_result"
    }
   ],
   "source": [
    "train_members.isnull().sum()"
   ]
  },
  {
   "cell_type": "markdown",
   "metadata": {},
   "source": [
    "### City"
   ]
  },
  {
   "cell_type": "code",
   "execution_count": 23,
   "metadata": {
    "colab": {
     "base_uri": "https://localhost:8080/"
    },
    "id": "gxhDAJDFA_Nm",
    "outputId": "c535a02e-eba1-45a0-9cb0-fc934cb4716c"
   },
   "outputs": [
    {
     "data": {
      "text/plain": [
       "1.0     442598\n",
       "13.0     97136\n",
       "5.0      70706\n",
       "4.0      47227\n",
       "15.0     43187\n",
       "22.0     41991\n",
       "6.0      26066\n",
       "14.0     20013\n",
       "12.0     11383\n",
       "9.0       9526\n",
       "11.0      9138\n",
       "18.0      7792\n",
       "8.0       7589\n",
       "10.0      6470\n",
       "17.0      5476\n",
       "21.0      5199\n",
       "3.0       5057\n",
       "7.0       2652\n",
       "16.0       944\n",
       "20.0       677\n",
       "19.0       140\n",
       "Name: city, dtype: int64"
      ]
     },
     "execution_count": 23,
     "metadata": {},
     "output_type": "execute_result"
    }
   ],
   "source": [
    "train_members['city'].value_counts()"
   ]
  },
  {
   "cell_type": "code",
   "execution_count": 39,
   "metadata": {},
   "outputs": [],
   "source": [
    "kk = train_members[train_members[\"city\"].notna()]"
   ]
  },
  {
   "cell_type": "code",
   "execution_count": 40,
   "metadata": {},
   "outputs": [
    {
     "data": {
      "image/png": "[encoded data removed]",
      "text/plain": [
       "<Figure size 1223.42x316.8 with 1 Axes>"
      ]
     },
     "execution_count": 40,
     "metadata": {},
     "output_type": "execute_result"
    }
   ],
   "source": [
    "dxp.count('city', data=kk, split='is_churn', normalize=True)"
   ]
  },
  {
   "cell_type": "code",
   "execution_count": 46,
   "metadata": {},
   "outputs": [],
   "source": [
    "temp = pd.DataFrame(train_members.groupby(\"city\")[\"is_churn\"].agg(lambda x: x.eq(1).sum())).reset_index()"
   ]
  },
  {
   "cell_type": "code",
   "execution_count": 47,
   "metadata": {},
   "outputs": [],
   "source": [
    "temp['total_users'] = pd.DataFrame(train_members.groupby(\"city\")[\"is_churn\"].agg(total_users='count')).reset_index()['total_users']"
   ]
  },
  {
   "cell_type": "code",
   "execution_count": 48,
   "metadata": {},
   "outputs": [],
   "source": [
    "temp['average_churned_users'] = pd.DataFrame(train_members.groupby(\"city\")[\"is_churn\"].agg(average_churned_users='mean')).reset_index()['average_churned_users']"
   ]
  },
  {
   "cell_type": "code",
   "execution_count": 49,
   "metadata": {},
   "outputs": [],
   "source": [
    "temp.sort_values(by=['total_users'],inplace=True, ascending=False)"
   ]
  },
  {
   "cell_type": "code",
   "execution_count": 50,
   "metadata": {
    "colab": {
     "base_uri": "https://localhost:8080/",
     "height": 743
    },
    "id": "vigKYEM45ZhT",
    "outputId": "7033f384-b46a-4007-8ab6-4aa919e7a30e"
   },
   "outputs": [
    {
     "data": {
      "text/html": [
       "<div>\n",
       "<style scoped>\n",
       "    .dataframe tbody tr th:only-of-type {\n",
       "        vertical-align: middle;\n",
       "    }\n",
       "\n",
       "    .dataframe tbody tr th {\n",
       "        vertical-align: top;\n",
       "    }\n",
       "\n",
       "    .dataframe thead th {\n",
       "        text-align: right;\n",
       "    }\n",
       "</style>\n",
       "<table border=\"1\" class=\"dataframe\">\n",
       "  <thead>\n",
       "    <tr style=\"text-align: right;\">\n",
       "      <th></th>\n",
       "      <th>city</th>\n",
       "      <th>is_churn</th>\n",
       "      <th>total_users</th>\n",
       "      <th>average_churned_users</th>\n",
       "    </tr>\n",
       "  </thead>\n",
       "  <tbody>\n",
       "    <tr>\n",
       "      <th>0</th>\n",
       "      <td>1.0</td>\n",
       "      <td>28351</td>\n",
       "      <td>442598</td>\n",
       "      <td>0.064056</td>\n",
       "    </tr>\n",
       "    <tr>\n",
       "      <th>11</th>\n",
       "      <td>13.0</td>\n",
       "      <td>11950</td>\n",
       "      <td>97136</td>\n",
       "      <td>0.123023</td>\n",
       "    </tr>\n",
       "    <tr>\n",
       "      <th>3</th>\n",
       "      <td>5.0</td>\n",
       "      <td>9333</td>\n",
       "      <td>70706</td>\n",
       "      <td>0.131997</td>\n",
       "    </tr>\n",
       "    <tr>\n",
       "      <th>2</th>\n",
       "      <td>4.0</td>\n",
       "      <td>6094</td>\n",
       "      <td>47227</td>\n",
       "      <td>0.129036</td>\n",
       "    </tr>\n",
       "    <tr>\n",
       "      <th>13</th>\n",
       "      <td>15.0</td>\n",
       "      <td>5538</td>\n",
       "      <td>43187</td>\n",
       "      <td>0.128233</td>\n",
       "    </tr>\n",
       "    <tr>\n",
       "      <th>20</th>\n",
       "      <td>22.0</td>\n",
       "      <td>5284</td>\n",
       "      <td>41991</td>\n",
       "      <td>0.125836</td>\n",
       "    </tr>\n",
       "    <tr>\n",
       "      <th>4</th>\n",
       "      <td>6.0</td>\n",
       "      <td>3358</td>\n",
       "      <td>26066</td>\n",
       "      <td>0.128827</td>\n",
       "    </tr>\n",
       "    <tr>\n",
       "      <th>12</th>\n",
       "      <td>14.0</td>\n",
       "      <td>2370</td>\n",
       "      <td>20013</td>\n",
       "      <td>0.118423</td>\n",
       "    </tr>\n",
       "    <tr>\n",
       "      <th>10</th>\n",
       "      <td>12.0</td>\n",
       "      <td>1585</td>\n",
       "      <td>11383</td>\n",
       "      <td>0.139243</td>\n",
       "    </tr>\n",
       "    <tr>\n",
       "      <th>7</th>\n",
       "      <td>9.0</td>\n",
       "      <td>1200</td>\n",
       "      <td>9526</td>\n",
       "      <td>0.125971</td>\n",
       "    </tr>\n",
       "    <tr>\n",
       "      <th>9</th>\n",
       "      <td>11.0</td>\n",
       "      <td>1096</td>\n",
       "      <td>9138</td>\n",
       "      <td>0.119939</td>\n",
       "    </tr>\n",
       "    <tr>\n",
       "      <th>16</th>\n",
       "      <td>18.0</td>\n",
       "      <td>913</td>\n",
       "      <td>7792</td>\n",
       "      <td>0.117171</td>\n",
       "    </tr>\n",
       "    <tr>\n",
       "      <th>6</th>\n",
       "      <td>8.0</td>\n",
       "      <td>1021</td>\n",
       "      <td>7589</td>\n",
       "      <td>0.134537</td>\n",
       "    </tr>\n",
       "    <tr>\n",
       "      <th>8</th>\n",
       "      <td>10.0</td>\n",
       "      <td>858</td>\n",
       "      <td>6470</td>\n",
       "      <td>0.132612</td>\n",
       "    </tr>\n",
       "    <tr>\n",
       "      <th>15</th>\n",
       "      <td>17.0</td>\n",
       "      <td>571</td>\n",
       "      <td>5476</td>\n",
       "      <td>0.104273</td>\n",
       "    </tr>\n",
       "    <tr>\n",
       "      <th>19</th>\n",
       "      <td>21.0</td>\n",
       "      <td>765</td>\n",
       "      <td>5199</td>\n",
       "      <td>0.147144</td>\n",
       "    </tr>\n",
       "    <tr>\n",
       "      <th>1</th>\n",
       "      <td>3.0</td>\n",
       "      <td>672</td>\n",
       "      <td>5057</td>\n",
       "      <td>0.132885</td>\n",
       "    </tr>\n",
       "    <tr>\n",
       "      <th>5</th>\n",
       "      <td>7.0</td>\n",
       "      <td>296</td>\n",
       "      <td>2652</td>\n",
       "      <td>0.111614</td>\n",
       "    </tr>\n",
       "    <tr>\n",
       "      <th>14</th>\n",
       "      <td>16.0</td>\n",
       "      <td>104</td>\n",
       "      <td>944</td>\n",
       "      <td>0.110169</td>\n",
       "    </tr>\n",
       "    <tr>\n",
       "      <th>18</th>\n",
       "      <td>20.0</td>\n",
       "      <td>72</td>\n",
       "      <td>677</td>\n",
       "      <td>0.106352</td>\n",
       "    </tr>\n",
       "    <tr>\n",
       "      <th>17</th>\n",
       "      <td>19.0</td>\n",
       "      <td>17</td>\n",
       "      <td>140</td>\n",
       "      <td>0.121429</td>\n",
       "    </tr>\n",
       "  </tbody>\n",
       "</table>\n",
       "</div>"
      ],
      "text/plain": [
       "    city  is_churn  total_users  average_churned_users\n",
       "0    1.0     28351       442598               0.064056\n",
       "11  13.0     11950        97136               0.123023\n",
       "3    5.0      9333        70706               0.131997\n",
       "2    4.0      6094        47227               0.129036\n",
       "13  15.0      5538        43187               0.128233\n",
       "20  22.0      5284        41991               0.125836\n",
       "4    6.0      3358        26066               0.128827\n",
       "12  14.0      2370        20013               0.118423\n",
       "10  12.0      1585        11383               0.139243\n",
       "7    9.0      1200         9526               0.125971\n",
       "9   11.0      1096         9138               0.119939\n",
       "16  18.0       913         7792               0.117171\n",
       "6    8.0      1021         7589               0.134537\n",
       "8   10.0       858         6470               0.132612\n",
       "15  17.0       571         5476               0.104273\n",
       "19  21.0       765         5199               0.147144\n",
       "1    3.0       672         5057               0.132885\n",
       "5    7.0       296         2652               0.111614\n",
       "14  16.0       104          944               0.110169\n",
       "18  20.0        72          677               0.106352\n",
       "17  19.0        17          140               0.121429"
      ]
     },
     "execution_count": 50,
     "metadata": {},
     "output_type": "execute_result"
    }
   ],
   "source": [
    "temp"
   ]
  },
  {
   "cell_type": "markdown",
   "metadata": {},
   "source": [
    "### Birthday"
   ]
  },
  {
   "cell_type": "code",
   "execution_count": 26,
   "metadata": {
    "colab": {
     "base_uri": "https://localhost:8080/",
     "height": 297
    },
    "id": "LP_HPEPjy2r8",
    "outputId": "469e48bb-4008-44bb-ab43-4cd20ab61df3"
   },
   "outputs": [
    {
     "data": {
      "text/plain": [
       "<matplotlib.axes._subplots.AxesSubplot at 0x7f332b7a1090>"
      ]
     },
     "execution_count": 26,
     "metadata": {},
     "output_type": "execute_result"
    },
    {
     "data": {
      "image/png": "[encoded data removed]",
      "text/plain": [
       "<Figure size 432x288 with 1 Axes>"
      ]
     },
     "metadata": {
      "needs_background": "light"
     },
     "output_type": "display_data"
    }
   ],
   "source": [
    "sns.boxplot(x='is_churn', y='bd', data=train_members)"
   ]
  },
  {
   "cell_type": "code",
   "execution_count": 68,
   "metadata": {
    "colab": {
     "base_uri": "https://localhost:8080/"
    },
    "id": "wVpuJ8yxzkzn",
    "outputId": "d840aca3-84c2-4937-d095-8cd78d044611"
   },
   "outputs": [],
   "source": [
    "train_members['bd'] = train_members['bd'].apply(lambda x: x if (x < 85.0) and (x > 5.0) else np.nan)"
   ]
  },
  {
   "cell_type": "code",
   "execution_count": 72,
   "metadata": {
    "id": "VZxREZsVzRva"
   },
   "outputs": [],
   "source": [
    "# Delete outliers \n",
    "bins = np.arange(1, 10) * 10\n",
    "train_members['category'] = np.digitize(train_members['bd'], bins, right=True)"
   ]
  },
  {
   "cell_type": "code",
   "execution_count": 73,
   "metadata": {
    "colab": {
     "base_uri": "https://localhost:8080/",
     "height": 539
    },
    "id": "jZ_LHMvPCQoH",
    "outputId": "5865ec4a-5908-445e-d26e-ade775a90eb7"
   },
   "outputs": [
    {
     "data": {
      "image/png": "[encoded data removed]",
      "text/plain": [
       "<Figure size 691.2x316.8 with 1 Axes>"
      ]
     },
     "execution_count": 73,
     "metadata": {},
     "output_type": "execute_result"
    }
   ],
   "source": [
    "dxp.count('category', data=train_members, split='is_churn', normalize=True)"
   ]
  },
  {
   "cell_type": "markdown",
   "metadata": {
    "id": "9FY6n-MJ0Jsd"
   },
   "source": [
    "### Gender "
   ]
  },
  {
   "cell_type": "code",
   "execution_count": 74,
   "metadata": {
    "colab": {
     "base_uri": "https://localhost:8080/"
    },
    "id": "fsrPIe9w0HGR",
    "outputId": "58387ab0-964f-4bab-db84-5233b101b302"
   },
   "outputs": [
    {
     "data": {
      "text/plain": [
       "array(['male', nan, 'female'], dtype=object)"
      ]
     },
     "execution_count": 74,
     "metadata": {},
     "output_type": "execute_result"
    }
   ],
   "source": [
    "train_members['gender'].unique()"
   ]
  },
  {
   "cell_type": "code",
   "execution_count": 75,
   "metadata": {
    "colab": {
     "base_uri": "https://localhost:8080/",
     "height": 420
    },
    "id": "1mkn3MrX0Mn7",
    "outputId": "83a9b1f1-d705-4269-c60c-8e6348ee986e"
   },
   "outputs": [
    {
     "data": {
      "image/png": "[encoded data removed]",
      "text/plain": [
       "<Figure size 304.128x316.8 with 1 Axes>"
      ]
     },
     "execution_count": 75,
     "metadata": {},
     "output_type": "execute_result"
    }
   ],
   "source": [
    "dxp.count('gender', data=train_members, split='is_churn', normalize=True)"
   ]
  },
  {
   "cell_type": "markdown",
   "metadata": {},
   "source": [
    "By looking at the average churning rate for both the gender types it is almost same."
   ]
  },
  {
   "cell_type": "markdown",
   "metadata": {
    "id": "fW7Sz1MO2XUr"
   },
   "source": [
    "### Registred via"
   ]
  },
  {
   "cell_type": "code",
   "execution_count": 32,
   "metadata": {
    "colab": {
     "base_uri": "https://localhost:8080/"
    },
    "id": "4ex8bCv60RXn",
    "outputId": "604eba25-252c-4f93-9ccd-d12045cc7337"
   },
   "outputs": [
    {
     "data": {
      "text/plain": [
       "array([ 3.,  7.,  9., nan,  4., 13.])"
      ]
     },
     "execution_count": 32,
     "metadata": {},
     "output_type": "execute_result"
    }
   ],
   "source": [
    "train_members['registered_via'].unique()"
   ]
  },
  {
   "cell_type": "code",
   "execution_count": 76,
   "metadata": {
    "colab": {
     "base_uri": "https://localhost:8080/",
     "height": 410
    },
    "id": "TvObtp0j2fsS",
    "outputId": "1246d496-3003-4da4-d5a0-c1c1da15aace"
   },
   "outputs": [
    {
     "data": {
      "image/png": "[encoded data removed]",
      "text/plain": [
       "<Figure size 449.28x316.8 with 1 Axes>"
      ]
     },
     "execution_count": 76,
     "metadata": {},
     "output_type": "execute_result"
    }
   ],
   "source": [
    "dxp.count('registered_via', data=train_members, split='is_churn', normalize=True)"
   ]
  },
  {
   "cell_type": "markdown",
   "metadata": {},
   "source": [
    "TODO : Since there is no registration category with the value 0, hence I can impute 0 in place of nan at the data preprocessing."
   ]
  },
  {
   "cell_type": "markdown",
   "metadata": {
    "id": "HnnryaNP2nhf"
   },
   "source": [
    "## registration_init_time"
   ]
  },
  {
   "cell_type": "code",
   "execution_count": 77,
   "metadata": {
    "id": "R2QooPkp217b"
   },
   "outputs": [],
   "source": [
    "train_members['registration_init_time'] = pd.to_datetime(train_members['registration_init_time'], format='%Y%m%d')"
   ]
  },
  {
   "cell_type": "code",
   "execution_count": 78,
   "metadata": {
    "id": "VC9IgZOQ2fwm"
   },
   "outputs": [],
   "source": [
    "train_members['year'] = train_members['registration_init_time'].dt.year.values\n",
    "train_members['month'] = train_members['registration_init_time'].dt.month.values\n",
    "train_members['weekday'] = train_members['registration_init_time'].dt.weekday.values"
   ]
  },
  {
   "cell_type": "code",
   "execution_count": 79,
   "metadata": {
    "colab": {
     "base_uri": "https://localhost:8080/",
     "height": 552
    },
    "id": "HXG9GcXF2f1E",
    "outputId": "5e9b413c-29c2-4a40-bc3f-bb0242e1edec"
   },
   "outputs": [
    {
     "data": {
      "image/png": "[encoded data removed]",
      "text/plain": [
       "<Figure size 884.736x316.8 with 1 Axes>"
      ]
     },
     "execution_count": 79,
     "metadata": {},
     "output_type": "execute_result"
    }
   ],
   "source": [
    "dxp.count('year', data=train_members, split='is_churn', normalize=True)"
   ]
  },
  {
   "cell_type": "code",
   "execution_count": 80,
   "metadata": {
    "colab": {
     "base_uri": "https://localhost:8080/",
     "height": 518
    },
    "id": "26lp_fKe5cpT",
    "outputId": "6903ab7a-32d7-4fa0-ec65-fb017ec24b60"
   },
   "outputs": [
    {
     "data": {
      "image/png": "[encoded data removed]",
      "text/plain": [
       "<Figure size 787.968x316.8 with 1 Axes>"
      ]
     },
     "execution_count": 80,
     "metadata": {},
     "output_type": "execute_result"
    }
   ],
   "source": [
    "dxp.count('month', data=train_members, split='is_churn', normalize=True)"
   ]
  },
  {
   "cell_type": "code",
   "execution_count": 81,
   "metadata": {
    "colab": {
     "base_uri": "https://localhost:8080/",
     "height": 292
    },
    "id": "ROMcfjIpO8vr",
    "outputId": "ff65bbd7-f3f3-4df8-b420-4ab7f490bd56"
   },
   "outputs": [
    {
     "data": {
      "image/png": "[encoded data removed]",
      "text/plain": [
       "<Figure size 546.048x316.8 with 1 Axes>"
      ]
     },
     "execution_count": 81,
     "metadata": {},
     "output_type": "execute_result"
    }
   ],
   "source": [
    "dxp.count('weekday', data=train_members, split='is_churn', normalize=True)"
   ]
  },
  {
   "cell_type": "code",
   "execution_count": 82,
   "metadata": {},
   "outputs": [
    {
     "name": "stdout",
     "output_type": "stream",
     "text": [
      "2015-02-04 00:00:00\n"
     ]
    }
   ],
   "source": [
    "dates = list(train_members.sort_values('registration_init_time')['registration_init_time'])\n",
    "print(dates[len(dates)//2])"
   ]
  },
  {
   "cell_type": "markdown",
   "metadata": {
    "id": "0n5BNQGv5yQo"
   },
   "source": [
    "### All in one "
   ]
  },
  {
   "cell_type": "code",
   "execution_count": 84,
   "metadata": {
    "id": "I8MTKAUd5vhb"
   },
   "outputs": [
    {
     "data": {
      "text/plain": [
       "<seaborn.axisgrid.PairGrid at 0x7fd0eb822550>"
      ]
     },
     "execution_count": 84,
     "metadata": {},
     "output_type": "execute_result"
    },
    {
     "data": {
      "image/png": "[encoded data removed]",
      "text/plain": [
       "<Figure size 567.55x540 with 12 Axes>"
      ]
     },
     "metadata": {
      "needs_background": "light"
     },
     "output_type": "display_data"
    }
   ],
   "source": [
    "sns.pairplot(train_members, vars=['city', 'bd', 'registered_via'], hue='is_churn')"
   ]
  },
  {
   "cell_type": "markdown",
   "metadata": {
    "id": "F9XUjUrm6n5z"
   },
   "source": [
    "# Transactions"
   ]
  },
  {
   "cell_type": "code",
   "execution_count": 85,
   "metadata": {
    "id": "7vON18VvUOZc"
   },
   "outputs": [
    {
     "data": {
      "text/plain": [
       "(1431009, 9)"
      ]
     },
     "execution_count": 85,
     "metadata": {},
     "output_type": "execute_result"
    }
   ],
   "source": [
    "transactions.shape"
   ]
  },
  {
   "cell_type": "code",
   "execution_count": null,
   "metadata": {
    "id": "YTt975x-T5rX"
   },
   "outputs": [],
   "source": [
    "transactions.duplicated(\"msno\").sum()"
   ]
  },
  {
   "cell_type": "code",
   "execution_count": null,
   "metadata": {
    "id": "RQmA7fZijrjM"
   },
   "outputs": [],
   "source": [
    "transactions['transaction_date'] = pd.to_datetime(transactions['transaction_date'], format='%Y%m%d')"
   ]
  },
  {
   "cell_type": "code",
   "execution_count": null,
   "metadata": {
    "id": "ZSxEI9KCkMTh"
   },
   "outputs": [],
   "source": [
    "transactions = transactions.sort_values(by=['transaction_date'])\n",
    "transactions = transactions.drop_duplicates(subset=['msno'], keep='last')"
   ]
  },
  {
   "cell_type": "code",
   "execution_count": null,
   "metadata": {
    "id": "wTpvePLnT7iw"
   },
   "outputs": [],
   "source": [
    "transactions.shape"
   ]
  },
  {
   "cell_type": "code",
   "execution_count": null,
   "metadata": {
    "id": "kYsvnBtC5vpD"
   },
   "outputs": [],
   "source": [
    "train.shape"
   ]
  },
  {
   "cell_type": "code",
   "execution_count": null,
   "metadata": {
    "id": "uyQk2znW5hKL"
   },
   "outputs": [],
   "source": [
    "train_transactions = pd.merge(train, transactions, on='msno', how='left')"
   ]
  },
  {
   "cell_type": "code",
   "execution_count": null,
   "metadata": {
    "id": "jcs9DizUBG0A"
   },
   "outputs": [],
   "source": [
    "train_transactions.shape"
   ]
  },
  {
   "cell_type": "code",
   "execution_count": null,
   "metadata": {
    "id": "TWwoYxJt6zwE"
   },
   "outputs": [],
   "source": [
    "train_transactions.info()"
   ]
  },
  {
   "cell_type": "code",
   "execution_count": null,
   "metadata": {
    "id": "4JJt3MsNTBFy"
   },
   "outputs": [],
   "source": [
    "transactions.duplicated(\"msno\").any()"
   ]
  },
  {
   "cell_type": "code",
   "execution_count": null,
   "metadata": {
    "id": "Z3XzM1kRS7II"
   },
   "outputs": [],
   "source": [
    "train.duplicated().any()"
   ]
  },
  {
   "cell_type": "code",
   "execution_count": null,
   "metadata": {
    "id": "Yed3HRv163qC"
   },
   "outputs": [],
   "source": [
    "train_transactions.isnull().sum()\n"
   ]
  },
  {
   "cell_type": "code",
   "execution_count": null,
   "metadata": {
    "id": "d9LogMwW63t-"
   },
   "outputs": [],
   "source": [
    "train_transactions['payment_method_id'].unique()"
   ]
  },
  {
   "cell_type": "code",
   "execution_count": null,
   "metadata": {
    "id": "jPgfpbvV892X"
   },
   "outputs": [],
   "source": [
    "sns.countplot(data=train_transactions, x='payment_method_id',hue='is_churn')"
   ]
  },
  {
   "cell_type": "code",
   "execution_count": null,
   "metadata": {
    "id": "leDvPwmzBlpc"
   },
   "outputs": [],
   "source": [
    "dxp.count('payment_method_id', data=train_transactions, split='is_churn', normalize=True)"
   ]
  },
  {
   "cell_type": "code",
   "execution_count": null,
   "metadata": {
    "id": "pZN_UdgX8duR"
   },
   "outputs": [],
   "source": [
    "train_transactions['payment_plan_days'].unique()"
   ]
  },
  {
   "cell_type": "code",
   "execution_count": null,
   "metadata": {
    "id": "ZD-6QVEMOp3B"
   },
   "outputs": [],
   "source": [
    "dxp.count('payment_plan_days', data=train_transactions, split='is_churn', normalize=True)"
   ]
  },
  {
   "cell_type": "code",
   "execution_count": null,
   "metadata": {
    "id": "YZYoMPztO3xD"
   },
   "outputs": [],
   "source": [
    "sns.boxplot(x='is_churn', y='payment_plan_days', data=train_transactions)"
   ]
  },
  {
   "cell_type": "code",
   "execution_count": null,
   "metadata": {
    "id": "uMnJMg6BO5dy"
   },
   "outputs": [],
   "source": [
    "# check how they define payment_plan_days to define whats an outlier "
   ]
  },
  {
   "cell_type": "code",
   "execution_count": null,
   "metadata": {
    "id": "AvTQTTN5TS5p"
   },
   "outputs": [],
   "source": [
    "train_transactions['plan_list_price'].unique()"
   ]
  },
  {
   "cell_type": "code",
   "execution_count": null,
   "metadata": {
    "id": "FTsv7Dy4TSxb"
   },
   "outputs": [],
   "source": [
    "dxp.count('plan_list_price', data=train_transactions, split='is_churn', normalize=True)"
   ]
  },
  {
   "cell_type": "code",
   "execution_count": null,
   "metadata": {
    "id": "8mZ1iV2PTSsx"
   },
   "outputs": [],
   "source": [
    "sns.boxplot(x='is_churn', y='plan_list_price', data=train_transactions)"
   ]
  },
  {
   "cell_type": "code",
   "execution_count": null,
   "metadata": {
    "id": "VK6iqtyCTSQR"
   },
   "outputs": [],
   "source": [
    "# Delete outliers "
   ]
  },
  {
   "cell_type": "code",
   "execution_count": null,
   "metadata": {
    "id": "I05nFCD6XO6v"
   },
   "outputs": [],
   "source": [
    "train_transactions['actual_amount_paid'].unique()"
   ]
  },
  {
   "cell_type": "code",
   "execution_count": null,
   "metadata": {
    "id": "S8nAaywXXOzL"
   },
   "outputs": [],
   "source": [
    "dxp.count('actual_amount_paid', data=train_transactions, split='is_churn', normalize=True)"
   ]
  },
  {
   "cell_type": "code",
   "execution_count": null,
   "metadata": {
    "id": "t-BSPjUHXOrv"
   },
   "outputs": [],
   "source": [
    "sns.boxplot(x='is_churn', y='actual_amount_paid', data=train_transactions)"
   ]
  },
  {
   "cell_type": "code",
   "execution_count": null,
   "metadata": {
    "id": "3UJF4JQYXOjw"
   },
   "outputs": [],
   "source": [
    "# Delete Outliers "
   ]
  },
  {
   "cell_type": "code",
   "execution_count": null,
   "metadata": {
    "id": "AU1gs_uHXPaJ"
   },
   "outputs": [],
   "source": [
    "train_transactions['is_auto_renew'].unique()"
   ]
  },
  {
   "cell_type": "code",
   "execution_count": null,
   "metadata": {
    "id": "8ybDcxhqXOWx"
   },
   "outputs": [],
   "source": [
    "dxp.count('is_auto_renew', data=train_transactions, split='is_churn', normalize=True)"
   ]
  },
  {
   "cell_type": "code",
   "execution_count": null,
   "metadata": {
    "id": "3OgrdPruXORc"
   },
   "outputs": [],
   "source": [
    "# Replace Nan Values "
   ]
  },
  {
   "cell_type": "code",
   "execution_count": null,
   "metadata": {
    "id": "y3cJi7H8XOMO"
   },
   "outputs": [],
   "source": [
    "train_transactions['year'] = train_transactions['transaction_date'].dt.year.values\n",
    "train_transactions['month'] = train_transactions['transaction_date'].dt.month.values"
   ]
  },
  {
   "cell_type": "code",
   "execution_count": null,
   "metadata": {
    "id": "eXfADNqTXOHL"
   },
   "outputs": [],
   "source": [
    "dxp.count('year', data=train_transactions, split='is_churn', normalize=True)"
   ]
  },
  {
   "cell_type": "code",
   "execution_count": null,
   "metadata": {
    "id": "f_sPmK3dX3Ks"
   },
   "outputs": [],
   "source": [
    "dxp.count('month', data=train_transactions, split='is_churn', normalize=True)"
   ]
  },
  {
   "cell_type": "code",
   "execution_count": null,
   "metadata": {
    "id": "PtXiP8KpX3QS"
   },
   "outputs": [],
   "source": [
    "# Delete outliers and Nan values "
   ]
  },
  {
   "cell_type": "code",
   "execution_count": null,
   "metadata": {
    "id": "cRieO1wEX3WZ"
   },
   "outputs": [],
   "source": [
    "train_transactions['membership_expire_date'] = pd.to_datetime(train_transactions['membership_expire_date'], format='%Y%m%d')\n",
    "train_transactions['ex_year'] = train_transactions['membership_expire_date'].dt.year.values\n",
    "train_transactions['ex_month'] = train_transactions['membership_expire_date'].dt.month.values\n"
   ]
  },
  {
   "cell_type": "code",
   "execution_count": null,
   "metadata": {
    "id": "DyNHl-yIX3bn"
   },
   "outputs": [],
   "source": [
    "dxp.count('ex_year', data=train_transactions, split='is_churn', normalize=True)"
   ]
  },
  {
   "cell_type": "code",
   "execution_count": null,
   "metadata": {
    "id": "zMHevggdb96J"
   },
   "outputs": [],
   "source": [
    "dxp.count('ex_month', data=train_transactions, split='is_churn', normalize=True)"
   ]
  },
  {
   "cell_type": "code",
   "execution_count": null,
   "metadata": {
    "id": "KfurDqSxb9xf"
   },
   "outputs": [],
   "source": [
    "train_transactions['is_cancel'].unique()"
   ]
  },
  {
   "cell_type": "code",
   "execution_count": null,
   "metadata": {
    "id": "3BkFlf80b9of"
   },
   "outputs": [],
   "source": [
    "dxp.count('is_cancel', data=train_transactions, split='is_churn', normalize=True)"
   ]
  },
  {
   "cell_type": "code",
   "execution_count": null,
   "metadata": {
    "id": "0ejkPVKVb9gA"
   },
   "outputs": [],
   "source": []
  },
  {
   "cell_type": "code",
   "execution_count": null,
   "metadata": {
    "id": "gDK4autcb9W2"
   },
   "outputs": [],
   "source": [
    "sns.pairplot(train_transactions, vars=['payment_method_id', 'payment_plan_days', 'plan_list_price', 'actual_amount_paid', 'is_auto_renew', 'is_cancel'], height=2, hue='is_churn')\n"
   ]
  },
  {
   "cell_type": "code",
   "execution_count": null,
   "metadata": {
    "id": "CcDAyt8Kj-cm"
   },
   "outputs": [],
   "source": [
    "user.head()"
   ]
  },
  {
   "cell_type": "code",
   "execution_count": null,
   "metadata": {
    "id": "HiWjU2Kal3do"
   },
   "outputs": [],
   "source": [
    "user.shape"
   ]
  },
  {
   "cell_type": "code",
   "execution_count": null,
   "metadata": {
    "id": "40FTJEI4b9Ry"
   },
   "outputs": [],
   "source": [
    "user.duplicated(\"msno\").sum()"
   ]
  },
  {
   "cell_type": "code",
   "execution_count": null,
   "metadata": {
    "id": "OaySfmss214k"
   },
   "outputs": [],
   "source": [
    "user = user.groupby('msno',as_index=False).sum()\n",
    "user.drop(columns=['date'],axis=1,inplace=True)\n",
    "user.head()"
   ]
  },
  {
   "cell_type": "code",
   "execution_count": null,
   "metadata": {
    "id": "HgSb4mNSCPMN"
   },
   "outputs": [],
   "source": [
    "user.shape"
   ]
  },
  {
   "cell_type": "code",
   "execution_count": null,
   "metadata": {
    "id": "otvnH1CeCPTx"
   },
   "outputs": [],
   "source": [
    "user.duplicated(\"msno\").sum()"
   ]
  },
  {
   "cell_type": "code",
   "execution_count": null,
   "metadata": {
    "id": "NogH3Dqhb9L5"
   },
   "outputs": [],
   "source": [
    "train_user = pd.merge(train, user, on='msno', how='left')"
   ]
  },
  {
   "cell_type": "code",
   "execution_count": null,
   "metadata": {
    "id": "hUveRHjWmjlb"
   },
   "outputs": [],
   "source": [
    "train_user.shape"
   ]
  },
  {
   "cell_type": "code",
   "execution_count": null,
   "metadata": {
    "id": "JKLG4DK4X80Q"
   },
   "outputs": [],
   "source": [
    "train_user.isnull().sum()"
   ]
  },
  {
   "cell_type": "code",
   "execution_count": null,
   "metadata": {
    "id": "xogm7wNdb9G2"
   },
   "outputs": [],
   "source": [
    "train_user.duplicated(\"msno\").sum()"
   ]
  },
  {
   "cell_type": "code",
   "execution_count": null,
   "metadata": {
    "id": "XeWBWw2kR_gZ"
   },
   "outputs": [],
   "source": [
    "sns.boxplot(x='is_churn', y='num_25', data=train_user)"
   ]
  },
  {
   "cell_type": "markdown",
   "metadata": {
    "id": "3ptutPwq49e-"
   },
   "source": [
    "# HI BEBE"
   ]
  },
  {
   "cell_type": "code",
   "execution_count": null,
   "metadata": {
    "id": "zXpP0Z4S4-1H"
   },
   "outputs": [],
   "source": [
    "sns.pairplot(train_logs, vars=['num_25', 'num_50', 'num_75', 'num_985', 'num_100', 'num_unq', 'total_secs'], hue='is_churn')"
   ]
  },
  {
   "cell_type": "code",
   "execution_count": null,
   "metadata": {
    "id": "ksa_-gyKXrY_"
   },
   "outputs": [],
   "source": []
  }
 ],
 "metadata": {
  "colab": {
   "name": "Project_SD701.ipynb",
   "provenance": [],
   "toc_visible": true
  },
  "kernelspec": {
   "display_name": "Python 3 (ipykernel)",
   "language": "python",
   "name": "python3"
  },
  "language_info": {
   "codemirror_mode": {
    "name": "ipython",
    "version": 3
   },
   "file_extension": ".py",
   "mimetype": "text/x-python",
   "name": "python",
   "nbconvert_exporter": "python",
   "pygments_lexer": "ipython3",
   "version": "3.9.1"
  }
 },
 "nbformat": 4,
 "nbformat_minor": 1
}
